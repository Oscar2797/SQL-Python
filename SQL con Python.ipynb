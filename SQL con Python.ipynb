{
 "cells": [
  {
   "cell_type": "code",
   "execution_count": null,
   "id": "651412f8-2dba-4bf3-b9da-b8cb7c588d7c",
   "metadata": {},
   "outputs": [],
   "source": [
    "# SQL en Python"
   ]
  },
  {
   "cell_type": "code",
   "execution_count": 116,
   "id": "24387a02-9e63-4c0c-a669-1941f1ac6608",
   "metadata": {},
   "outputs": [],
   "source": [
    "import sqlite3"
   ]
  },
  {
   "cell_type": "code",
   "execution_count": 4,
   "id": "223366e1-ee5e-4b0f-9a98-66b66a713924",
   "metadata": {},
   "outputs": [
    {
     "data": {
      "text/plain": [
       "module"
      ]
     },
     "execution_count": 4,
     "metadata": {},
     "output_type": "execute_result"
    }
   ],
   "source": [
    "type(sqlite3)"
   ]
  },
  {
   "cell_type": "code",
   "execution_count": 6,
   "id": "02edbcb4-263d-4edb-b382-496cfbdf1b9c",
   "metadata": {},
   "outputs": [],
   "source": [
    "conn= sqlite3.connect(\"first.db\")"
   ]
  },
  {
   "cell_type": "code",
   "execution_count": 8,
   "id": "7fa32303-caad-4ffa-9822-0fbd97c95e96",
   "metadata": {},
   "outputs": [
    {
     "data": {
      "text/plain": [
       "<sqlite3.Connection at 0x178210a2020>"
      ]
     },
     "execution_count": 8,
     "metadata": {},
     "output_type": "execute_result"
    }
   ],
   "source": [
    "conn"
   ]
  },
  {
   "cell_type": "code",
   "execution_count": 10,
   "id": "96367179-bbf4-470c-8418-8fff323e2486",
   "metadata": {},
   "outputs": [
    {
     "data": {
      "text/plain": [
       "<sqlite3.Cursor at 0x17821250140>"
      ]
     },
     "execution_count": 10,
     "metadata": {},
     "output_type": "execute_result"
    }
   ],
   "source": [
    "conn.cursor()"
   ]
  },
  {
   "cell_type": "code",
   "execution_count": 12,
   "id": "8a5735b0-1d49-47a5-976f-209eb1b1f454",
   "metadata": {},
   "outputs": [],
   "source": [
    "cur= conn.cursor()"
   ]
  },
  {
   "cell_type": "code",
   "execution_count": 14,
   "id": "b8342dd4-158e-493c-a9ae-96c143e6fb4e",
   "metadata": {},
   "outputs": [
    {
     "data": {
      "text/plain": [
       "<sqlite3.Cursor at 0x17821203640>"
      ]
     },
     "execution_count": 14,
     "metadata": {},
     "output_type": "execute_result"
    }
   ],
   "source": [
    "cur.execute(\"\"\"\n",
    "    CREATE TABLE ice_cream_flavors (\n",
    "        ID INTEGER PRIMARY KEY,\n",
    "        Flavor TEXT,\n",
    "        Rating INTEGER\n",
    "        );\n",
    "\"\"\")"
   ]
  },
  {
   "cell_type": "code",
   "execution_count": 18,
   "id": "4e5bee51-1a99-4c5e-a7d4-8f06dbb2abba",
   "metadata": {},
   "outputs": [],
   "source": [
    "# Inserción de valores\n",
    "cur.execute(\"\"\"\n",
    "    INSERT INTO ice_cream_flavors(Flavor, Rating)\n",
    "    VALUES ('choco', 10), ('straw',9),('pistachio',7.2);\n",
    "\"\"\")\n",
    "conn.commit()"
   ]
  },
  {
   "cell_type": "code",
   "execution_count": 22,
   "id": "c7f31abc-b24d-4d6a-9c8a-728064c3a7e3",
   "metadata": {},
   "outputs": [
    {
     "data": {
      "text/plain": [
       "<sqlite3.Cursor at 0x17821203640>"
      ]
     },
     "execution_count": 22,
     "metadata": {},
     "output_type": "execute_result"
    }
   ],
   "source": [
    "cur.execute(\"SELECT * FROM ice_cream_flavors;\")"
   ]
  },
  {
   "cell_type": "code",
   "execution_count": 24,
   "id": "c177a974-8290-4616-bba3-9e7081ec8298",
   "metadata": {},
   "outputs": [
    {
     "data": {
      "text/plain": [
       "(1, 'choco', 10)"
      ]
     },
     "execution_count": 24,
     "metadata": {},
     "output_type": "execute_result"
    }
   ],
   "source": [
    "cur.fetchone()"
   ]
  },
  {
   "cell_type": "code",
   "execution_count": 26,
   "id": "4b6ba911-f4dd-4ad7-a9ee-1e63164f852a",
   "metadata": {},
   "outputs": [
    {
     "data": {
      "text/plain": [
       "(2, 'straw', 9)"
      ]
     },
     "execution_count": 26,
     "metadata": {},
     "output_type": "execute_result"
    }
   ],
   "source": [
    "cur.fetchone()"
   ]
  },
  {
   "cell_type": "code",
   "execution_count": 28,
   "id": "9bb56db5-8193-4369-a099-b858552f264e",
   "metadata": {},
   "outputs": [
    {
     "data": {
      "text/plain": [
       "(3, 'pistachio', 7.2)"
      ]
     },
     "execution_count": 28,
     "metadata": {},
     "output_type": "execute_result"
    }
   ],
   "source": [
    "next(cur)"
   ]
  },
  {
   "cell_type": "code",
   "execution_count": 32,
   "id": "ebce3830-8392-4517-85b1-bfb6e796fd61",
   "metadata": {},
   "outputs": [
    {
     "name": "stdout",
     "output_type": "stream",
     "text": [
      "(1, 'choco', 10)\n",
      "(2, 'straw', 9)\n",
      "(3, 'pistachio', 7.2)\n"
     ]
    }
   ],
   "source": [
    "cur.execute(\"SELECT * FROM ice_cream_flavors;\")\n",
    "for row in cur:\n",
    "    print(row)"
   ]
  },
  {
   "cell_type": "code",
   "execution_count": 34,
   "id": "8a263e0a-4acd-4d86-bfb5-9abd95ddd6d6",
   "metadata": {},
   "outputs": [
    {
     "data": {
      "text/plain": [
       "[(1, 'choco', 10), (2, 'straw', 9)]"
      ]
     },
     "execution_count": 34,
     "metadata": {},
     "output_type": "execute_result"
    }
   ],
   "source": [
    "cur.execute(\"SELECT * FROM ice_cream_flavors;\")\n",
    "cur.fetchmany(2)"
   ]
  },
  {
   "cell_type": "code",
   "execution_count": 36,
   "id": "39a90c0d-9cd6-4a83-9559-bf896215abdb",
   "metadata": {},
   "outputs": [
    {
     "data": {
      "text/plain": [
       "[(3, 'pistachio', 7.2)]"
      ]
     },
     "execution_count": 36,
     "metadata": {},
     "output_type": "execute_result"
    }
   ],
   "source": [
    "cur.fetchmany(2)"
   ]
  },
  {
   "cell_type": "code",
   "execution_count": 38,
   "id": "61648526-cad0-48aa-b145-5194de794f0c",
   "metadata": {},
   "outputs": [
    {
     "ename": "TypeError",
     "evalue": "tuple indices must be integers or slices, not str",
     "output_type": "error",
     "traceback": [
      "\u001b[1;31m---------------------------------------------------------------------------\u001b[0m",
      "\u001b[1;31mTypeError\u001b[0m                                 Traceback (most recent call last)",
      "Cell \u001b[1;32mIn[38], line 4\u001b[0m\n\u001b[0;32m      2\u001b[0m cur\u001b[38;5;241m.\u001b[39mexecute(\u001b[38;5;124m\"\u001b[39m\u001b[38;5;124mSELECT * FROM ice_cream_flavors;\u001b[39m\u001b[38;5;124m\"\u001b[39m)\n\u001b[0;32m      3\u001b[0m result\u001b[38;5;241m=\u001b[39m cur\u001b[38;5;241m.\u001b[39mfetchone()\n\u001b[1;32m----> 4\u001b[0m result[\u001b[38;5;124m'\u001b[39m\u001b[38;5;124mFlavor\u001b[39m\u001b[38;5;124m'\u001b[39m]\n",
      "\u001b[1;31mTypeError\u001b[0m: tuple indices must be integers or slices, not str"
     ]
    }
   ],
   "source": [
    "# Ejemplo de una mala ejecución\n",
    "cur.execute(\"SELECT * FROM ice_cream_flavors;\")\n",
    "result= cur.fetchone()\n",
    "result['Flavor']"
   ]
  },
  {
   "cell_type": "code",
   "execution_count": 40,
   "id": "b81965b5-d50f-44fa-8a62-19295fe20d94",
   "metadata": {},
   "outputs": [],
   "source": [
    "cur.row_factory = lambda cursor, row: dict(zip([col[0] for  col in cursor.description],row))"
   ]
  },
  {
   "cell_type": "code",
   "execution_count": 42,
   "id": "6553c48d-d7dd-4bb5-b878-83c353ef613d",
   "metadata": {},
   "outputs": [
    {
     "data": {
      "text/plain": [
       "'choco'"
      ]
     },
     "execution_count": 42,
     "metadata": {},
     "output_type": "execute_result"
    }
   ],
   "source": [
    "cur.execute(\"SELECT * FROM ice_cream_flavors;\")\n",
    "result= cur.fetchone()\n",
    "result['Flavor']"
   ]
  },
  {
   "cell_type": "code",
   "execution_count": 44,
   "id": "c4358efb-4499-4630-975f-ef30e06fb95e",
   "metadata": {},
   "outputs": [
    {
     "data": {
      "text/plain": [
       "10"
      ]
     },
     "execution_count": 44,
     "metadata": {},
     "output_type": "execute_result"
    }
   ],
   "source": [
    "result['Rating']"
   ]
  },
  {
   "cell_type": "code",
   "execution_count": 46,
   "id": "5a0b8655-8775-44cf-ab5b-9e68a38507eb",
   "metadata": {},
   "outputs": [
    {
     "data": {
      "text/plain": [
       "dict"
      ]
     },
     "execution_count": 46,
     "metadata": {},
     "output_type": "execute_result"
    }
   ],
   "source": [
    "type(result)"
   ]
  },
  {
   "cell_type": "code",
   "execution_count": 48,
   "id": "ee9c5284-6983-4204-a3c2-febf0a72aaa3",
   "metadata": {},
   "outputs": [
    {
     "data": {
      "text/plain": [
       "[{'ID': 1, 'Flavor': 'choco', 'Rating': 10},\n",
       " {'ID': 2, 'Flavor': 'straw', 'Rating': 9},\n",
       " {'ID': 3, 'Flavor': 'pistachio', 'Rating': 7.2}]"
      ]
     },
     "execution_count": 48,
     "metadata": {},
     "output_type": "execute_result"
    }
   ],
   "source": [
    "cur.execute(\"SELECT * FROM ice_cream_flavors;\")\n",
    "result= cur.fetchall()\n",
    "result"
   ]
  },
  {
   "cell_type": "code",
   "execution_count": 50,
   "id": "4d4c7632-1dec-40ce-9b48-e1105fb2586e",
   "metadata": {},
   "outputs": [
    {
     "data": {
      "text/plain": [
       "[<sqlite3.Row at 0x1782878ecb0>,\n",
       " <sqlite3.Row at 0x1782878e830>,\n",
       " <sqlite3.Row at 0x1782878fb20>]"
      ]
     },
     "execution_count": 50,
     "metadata": {},
     "output_type": "execute_result"
    }
   ],
   "source": [
    "# Camino alternativo\n",
    "cur.row_factory= sqlite3.Row\n",
    "cur.execute(\"SELECT * FROM ice_cream_flavors;\")\n",
    "result= cur.fetchall()\n",
    "result"
   ]
  },
  {
   "cell_type": "code",
   "execution_count": 52,
   "id": "17e940f8-b80d-4647-9da4-10e6227c1d80",
   "metadata": {},
   "outputs": [
    {
     "name": "stdout",
     "output_type": "stream",
     "text": [
      "choco\n",
      "10\n"
     ]
    }
   ],
   "source": [
    "first_row= result[0]\n",
    "print(first_row[\"Flavor\"])\n",
    "print(first_row[\"Rating\"])"
   ]
  },
  {
   "cell_type": "code",
   "execution_count": 54,
   "id": "4a7c822b-ca0d-4d06-960a-0351ad0ffd5e",
   "metadata": {},
   "outputs": [
    {
     "name": "stdout",
     "output_type": "stream",
     "text": [
      "straw\n",
      "9\n"
     ]
    }
   ],
   "source": [
    "first_row= result[1]\n",
    "print(first_row[\"Flavor\"])\n",
    "print(first_row[\"Rating\"])"
   ]
  },
  {
   "cell_type": "code",
   "execution_count": 56,
   "id": "0bd26831-a4a5-45bd-8d08-31fc2a912414",
   "metadata": {},
   "outputs": [
    {
     "data": {
      "text/plain": [
       "sqlite3.Row"
      ]
     },
     "execution_count": 56,
     "metadata": {},
     "output_type": "execute_result"
    }
   ],
   "source": [
    "type(first_row)"
   ]
  },
  {
   "cell_type": "code",
   "execution_count": null,
   "id": "324fa468-aa33-4313-94b3-2977e7cc4dcc",
   "metadata": {},
   "outputs": [],
   "source": [
    "# Si es en un mismo renglón, no se necesitan las 3 comillas (hasta que no se use conn.commit(), la instrucción no se ve reflejada)"
   ]
  },
  {
   "cell_type": "code",
   "execution_count": 58,
   "id": "e7c1a96d-c05d-4a76-be92-be6a2ef24c57",
   "metadata": {},
   "outputs": [
    {
     "data": {
      "text/plain": [
       "<sqlite3.Cursor at 0x17821203640>"
      ]
     },
     "execution_count": 58,
     "metadata": {},
     "output_type": "execute_result"
    }
   ],
   "source": [
    "cur.execute(\"INSERT INTO ice_cream_flavors(Flavor, Rating) VALUES ('hazelnut', 6);\")"
   ]
  },
  {
   "cell_type": "code",
   "execution_count": 60,
   "id": "f23a1253-9360-452a-be88-48be6510543c",
   "metadata": {},
   "outputs": [],
   "source": [
    "# si no se ha usado conn.commit(), se puede cancelar la instrucción"
   ]
  },
  {
   "cell_type": "code",
   "execution_count": 64,
   "id": "7f094de4-e15d-463c-850c-16f0070beafe",
   "metadata": {},
   "outputs": [],
   "source": [
    "conn.rollback()"
   ]
  },
  {
   "cell_type": "code",
   "execution_count": 66,
   "id": "c2392fa4-2496-4c55-977a-199d95dc4b1e",
   "metadata": {},
   "outputs": [],
   "source": [
    "cur.execute(\"INSERT INTO ice_cream_flavors(Flavor, Rating) VALUES ('nut', 8);\")\n",
    "conn.commit()"
   ]
  },
  {
   "cell_type": "code",
   "execution_count": 68,
   "id": "74f6ef53-8c5c-4e79-a577-c8fc8511f43b",
   "metadata": {},
   "outputs": [],
   "source": [
    "# Parte 2"
   ]
  },
  {
   "cell_type": "code",
   "execution_count": 74,
   "id": "d6d62053-0593-4bd9-be0c-123a8cf6e3be",
   "metadata": {},
   "outputs": [
    {
     "name": "stdin",
     "output_type": "stream",
     "text": [
      "introduzca un sabor DVD\n",
      "introduzca una calificación 23\n"
     ]
    }
   ],
   "source": [
    "# Introducir nuevos datos a la tabla con inputs\n",
    "Flavor= input(\"introduzca un sabor\")\n",
    "Rating= input(\"introduzca una calificación\")\n",
    "cur.execute(f\"INSERT INTO ice_cream_flavors(Flavor, Rating) VALUES ('{Flavor}','{Rating}');\")\n",
    "conn.commit()"
   ]
  },
  {
   "cell_type": "code",
   "execution_count": 80,
   "id": "808270b4-db56-45c1-a1c3-c562f1f770d8",
   "metadata": {},
   "outputs": [
    {
     "name": "stdin",
     "output_type": "stream",
     "text": [
      "introduzca un sabor Cereza\n",
      "introduzca una calificación 9.5\n"
     ]
    }
   ],
   "source": [
    "# Modo alternativo\n",
    "Flavor= input(\"introduzca un sabor\")\n",
    "Rating= input(\"introduzca una calificación\")\n",
    "cur.execute(f\"INSERT INTO ice_cream_flavors(Flavor, Rating) VALUES (?,?);\",(Flavor,Rating))\n",
    "conn.commit()"
   ]
  },
  {
   "cell_type": "code",
   "execution_count": 84,
   "id": "bf8996a0-c8e5-4e2a-8341-499adcb823d1",
   "metadata": {},
   "outputs": [
    {
     "name": "stdin",
     "output_type": "stream",
     "text": [
      "introduzca un sabor banana\n",
      "introduzca una calificación 8.3\n"
     ]
    }
   ],
   "source": [
    "# Modo alternativo 2\n",
    "\n",
    "Flavor= input(\"introduzca un sabor\")\n",
    "Rating= input(\"introduzca una calificación\")\n",
    "cur.execute(f\"INSERT INTO ice_cream_flavors(Flavor, Rating) VALUES (:sabor,:puntaje);\",{\"sabor\":Flavor, \"puntaje\":Rating})\n",
    "conn.commit()"
   ]
  },
  {
   "cell_type": "code",
   "execution_count": 86,
   "id": "e0b41bd0-4ffd-419d-8a37-0055b31eb7ff",
   "metadata": {},
   "outputs": [],
   "source": [
    "ice_cream_flavors=[(\"vainilla\",4.5),\n",
    "                   (\"fresa\",6.7),\n",
    "                   (\"café\",3.4),\n",
    "                   (\"caramelo\",9),\n",
    "                  ]"
   ]
  },
  {
   "cell_type": "code",
   "execution_count": 88,
   "id": "c276475a-f50f-482b-92a0-4adc04784333",
   "metadata": {},
   "outputs": [],
   "source": [
    "cur.executemany(f\"INSERT INTO ice_cream_flavors(Flavor, Rating) VALUES(?,?);\", ice_cream_flavors)\n",
    "conn.commit()"
   ]
  },
  {
   "cell_type": "code",
   "execution_count": 92,
   "id": "ca097f1f-0d04-4956-991b-424072fae8f7",
   "metadata": {},
   "outputs": [
    {
     "data": {
      "text/plain": [
       "<sqlite3.Cursor at 0x17821203640>"
      ]
     },
     "execution_count": 92,
     "metadata": {},
     "output_type": "execute_result"
    }
   ],
   "source": [
    "# Creación de una nueva tabla mediante un script (TODO EN UN MISMO CÓDIGO A DIFERENCIA DEL PRIMER CASO)\n",
    "cur.executescript(\"\"\"\n",
    "    CREATE TABLE IF NOT EXISTS toppings(\n",
    "        ID INTEGER PRIMARY KEY,\n",
    "        name TEXT NOT NULL);\n",
    "    INSERT INTO toppings (name) VALUES ('sprinkles'),('choco sauce'), ('caramel sauce'), ('nuts');\n",
    "\"\"\")"
   ]
  },
  {
   "cell_type": "code",
   "execution_count": 94,
   "id": "d02583dd-9184-4c69-86e1-b323205720dc",
   "metadata": {},
   "outputs": [],
   "source": [
    "conn.commit()"
   ]
  },
  {
   "cell_type": "code",
   "execution_count": 96,
   "id": "8805f000-ad90-4845-a20e-3f64704d31b0",
   "metadata": {},
   "outputs": [
    {
     "name": "stdout",
     "output_type": "stream",
     "text": [
      "BEGIN TRANSACTION;\n",
      "CREATE TABLE ice_cream_flavors (\n",
      "        ID INTEGER PRIMARY KEY,\n",
      "        Flavor TEXT,\n",
      "        Rating INTEGER\n",
      "        );\n",
      "INSERT INTO \"ice_cream_flavors\" VALUES(1,'choco',10);\n",
      "INSERT INTO \"ice_cream_flavors\" VALUES(2,'straw',9);\n",
      "INSERT INTO \"ice_cream_flavors\" VALUES(3,'pistachio',7.2);\n",
      "INSERT INTO \"ice_cream_flavors\" VALUES(4,'nut',8);\n",
      "INSERT INTO \"ice_cream_flavors\" VALUES(5,'DVD',23);\n",
      "INSERT INTO \"ice_cream_flavors\" VALUES(6,'Cereza',9.5);\n",
      "INSERT INTO \"ice_cream_flavors\" VALUES(7,'banana',8.3);\n",
      "INSERT INTO \"ice_cream_flavors\" VALUES(8,'vainilla',4.5);\n",
      "INSERT INTO \"ice_cream_flavors\" VALUES(9,'fresa',6.7);\n",
      "INSERT INTO \"ice_cream_flavors\" VALUES(10,'café',3.4);\n",
      "INSERT INTO \"ice_cream_flavors\" VALUES(11,'caramelo',9);\n",
      "CREATE TABLE toppings(\n",
      "        ID INTEGER PRIMARY KEY,\n",
      "        name TEXT NOT NULL);\n",
      "INSERT INTO \"toppings\" VALUES(1,'sprinkles');\n",
      "INSERT INTO \"toppings\" VALUES(2,'choco sauce');\n",
      "INSERT INTO \"toppings\" VALUES(3,'caramel sauce');\n",
      "INSERT INTO \"toppings\" VALUES(4,'nuts');\n",
      "COMMIT;\n"
     ]
    }
   ],
   "source": [
    "# DATABASE DUMP ( Te muestra el código de SQL que se requirió)\n",
    "for line in conn.iterdump():\n",
    "    print(line)"
   ]
  },
  {
   "cell_type": "code",
   "execution_count": 98,
   "id": "5528b121-10d8-42a1-beda-ddd95aa16784",
   "metadata": {},
   "outputs": [],
   "source": [
    "# GENERAR DOCUMENTO CON EL CÓDIGO (\"w\" instrucción tipo write)\n",
    "_file= open(\"ice_cream_flavors\",\"w\")\n",
    "\n",
    "for line in conn.iterdump():\n",
    "    _file.write(f\"{line}\\n\")\n",
    "\n",
    "_file.close()"
   ]
  },
  {
   "cell_type": "code",
   "execution_count": 104,
   "id": "9aed75a6-6c52-48fe-8385-afe1fa8e48c6",
   "metadata": {},
   "outputs": [],
   "source": [
    "# OTRO MÉTODO DE GENERAR DOCUMENTO CON EL CÓDIGO (\"w\" instrucción tipo write)\n",
    "with open(\"ice_cream_db_dumb2.sql\",\"w\") as _file:\n",
    "    for line in conn.iterdump():\n",
    "        _file.write(f\"{line}\\n\")\n"
   ]
  },
  {
   "cell_type": "code",
   "execution_count": 106,
   "id": "895eb1fc-d7b6-464a-a739-ff252142669b",
   "metadata": {},
   "outputs": [],
   "source": [
    "# CONTEXT MANAGERS, OTRA HERRAMIENTA PARA TRABAJAR LAS BASES ( TE AHORRAS EL conn.commit)\n",
    "\n",
    "with conn:\n",
    "    conn.execute(\"INSERT INTO ice_cream_flavors(Flavor,Rating) VALUES(?,?);\",\n",
    "                 (\"caramelo extremo\",2.7))"
   ]
  },
  {
   "cell_type": "code",
   "execution_count": 108,
   "id": "f462d658-77fd-4b9a-8436-eb98c157d3ca",
   "metadata": {},
   "outputs": [
    {
     "data": {
      "text/plain": [
       "[(1, 'choco', 10), (2, 'straw', 9), (3, 'pistachio', 7.2), (4, 'nut', 8)]"
      ]
     },
     "execution_count": 108,
     "metadata": {},
     "output_type": "execute_result"
    }
   ],
   "source": [
    "# SE PUEDEN SELECCIONAR ALGUNOS DATOS DE LA TABLA PONIENDO UN LÍMITE\n",
    "\n",
    "conn.execute(\"SELECT* FROM ice_cream_flavors LIMIT 4;\").fetchall()"
   ]
  },
  {
   "cell_type": "code",
   "execution_count": 110,
   "id": "1b7a2d16-86f6-4d51-afdf-3fa055053176",
   "metadata": {},
   "outputs": [],
   "source": [
    "#  CERRAR CONEXIÓN\n",
    "\n",
    "conn.close()"
   ]
  },
  {
   "cell_type": "code",
   "execution_count": 112,
   "id": "bc08097d-37dd-4d86-98b4-4b00dc4ae394",
   "metadata": {},
   "outputs": [],
   "source": [
    "# Abrir conexión\n",
    "\n",
    "conn= sqlite3.connect(\"first.db\")"
   ]
  },
  {
   "cell_type": "code",
   "execution_count": 114,
   "id": "e1e38d46-c343-4b15-b85f-d3e31431efcb",
   "metadata": {},
   "outputs": [],
   "source": [
    "conn.close()"
   ]
  },
  {
   "cell_type": "code",
   "execution_count": null,
   "id": "2ff50258-ae33-4d1d-8db1-b3be56544354",
   "metadata": {},
   "outputs": [],
   "source": []
  }
 ],
 "metadata": {
  "kernelspec": {
   "display_name": "Python [conda env:Orange]",
   "language": "python",
   "name": "conda-env-Orange-py"
  },
  "language_info": {
   "codemirror_mode": {
    "name": "ipython",
    "version": 3
   },
   "file_extension": ".py",
   "mimetype": "text/x-python",
   "name": "python",
   "nbconvert_exporter": "python",
   "pygments_lexer": "ipython3",
   "version": "3.11.8"
  }
 },
 "nbformat": 4,
 "nbformat_minor": 5
}
